{
  "nbformat": 4,
  "nbformat_minor": 0,
  "metadata": {
    "colab": {
      "provenance": []
    },
    "kernelspec": {
      "name": "python3",
      "display_name": "Python 3"
    },
    "language_info": {
      "name": "python"
    }
  },
  "cells": [
    {
      "cell_type": "markdown",
      "source": [
        "Статические и динамические свойства"
      ],
      "metadata": {
        "id": "j0RMq7cFF6Dk"
      }
    },
    {
      "cell_type": "markdown",
      "source": [
        "Свойства класса - переменные внутри класса, которые должны иметь некоторые значения.\n",
        "\n",
        "Статические свойства - свойства, значения которых определено сразу внутри класса, оно может быть вызвано как из класса, так и из экземпляра класса (но если свойство приватное, вызвать его из экземпляра не получится)\n",
        "\n",
        "Динамические свойства - свойства, значения которых задаются индивидуально для каждого экземпляра. Сначала они задаются внутри класса с помощью метода __init__, затем, при создании экземпляра мы должны указать значения этих локальных свойств.\n",
        "\n",
        "Также мы можем определить значения по умолчанию для динамических параметров, для этого в методе __init__ мы определяем формальные параметры, тогда при создании экземпляра будет необязательно указывать значения динамических свойств."
      ],
      "metadata": {
        "id": "EeL6pv-uJXVe"
      }
    },
    {
      "cell_type": "markdown",
      "source": [
        "Ключевое слово __self__ - это ссылка на экземпляр класса, её необходимо указывать для методов, которые подразумевают использование через экземпляры класса. Другими словами, если не прописать self, то мы не сможем применить метод к экземпляру класса."
      ],
      "metadata": {
        "id": "6sMsCTssZWKu"
      }
    },
    {
      "cell_type": "code",
      "execution_count": null,
      "metadata": {
        "id": "1Bl0M0uSFWy8"
      },
      "outputs": [],
      "source": [
        "class My_class():\n",
        "  \"Текстовое описание работы класса\"\n",
        "  # Определим статическое свойство\n",
        "  a = 200\n",
        "  t = 300\n",
        "  # Определим динамические свойства со значениями по умолчанию\n",
        "  def __init__(self, b = 0, c =0):\n",
        "    self.b = b\n",
        "    self.c = c"
      ]
    },
    {
      "cell_type": "code",
      "source": [
        "delattr(My_class, 't')"
      ],
      "metadata": {
        "id": "i-bv3RNgsDEQ"
      },
      "execution_count": null,
      "outputs": []
    },
    {
      "cell_type": "markdown",
      "source": [
        "Чтобы получить текстовое описание класса (или функции) используется метод __doc__"
      ],
      "metadata": {
        "id": "C0hO1itLppB8"
      }
    },
    {
      "cell_type": "markdown",
      "source": [
        "**Получение, изменение и удаление значения свойства**"
      ],
      "metadata": {
        "id": "Z8CY57xCaQy7"
      }
    },
    {
      "cell_type": "markdown",
      "source": [
        "1) Мы можем получить значения свойств класса и экземпляра класса\n",
        "\n",
        "  Для этого используется функция getattr()\n",
        "\n",
        "  **getattr(Название_класса/экземпляра, \"Имя_свойства\")**\n",
        "\n",
        "2) Также мы можем изменять значения свойств класса и экземпляра класса\n",
        "\n",
        "  Для этого используется функция setattr()\n",
        "\n",
        "  **setattr(Название_класса/экземпляра, \"Имя_свойства\", Новое_значение_свойства)**\n",
        "\n",
        "3) Мы можем удалять атрибут\n",
        "\n",
        "Для этого используется функция delattr()\n",
        "\n",
        "**delattr(Название_класса/экземпляра, \"Имя_свойства\")**\n",
        "\n",
        "4) проверка на наличие атрибута в классе/экземпляре\n",
        "\n",
        "**hassttr(Название_класса/экземпляра, \"Имя_свойства\")**\n",
        "\n",
        "*Все эти функции не будут работать с приватными свойтсвами*"
      ],
      "metadata": {
        "id": "Ez2wSTTOb3mj"
      }
    },
    {
      "cell_type": "code",
      "source": [
        "getattr(My_class, 'a')"
      ],
      "metadata": {
        "colab": {
          "base_uri": "https://localhost:8080/"
        },
        "id": "02--sKpTaWio",
        "outputId": "31492a5e-4f06-4475-f136-9cf180dd6828"
      },
      "execution_count": null,
      "outputs": [
        {
          "output_type": "execute_result",
          "data": {
            "text/plain": [
              "200"
            ]
          },
          "metadata": {},
          "execution_count": 6
        }
      ]
    },
    {
      "cell_type": "code",
      "source": [
        "setattr(My_class, 'a', 300)\n",
        "getattr(My_class, 'a')"
      ],
      "metadata": {
        "colab": {
          "base_uri": "https://localhost:8080/"
        },
        "id": "J7K1L523epc2",
        "outputId": "a665d1b9-7868-4ff4-939b-48de73cd329e"
      },
      "execution_count": null,
      "outputs": [
        {
          "output_type": "execute_result",
          "data": {
            "text/plain": [
              "300"
            ]
          },
          "metadata": {},
          "execution_count": 7
        }
      ]
    },
    {
      "cell_type": "markdown",
      "source": [
        "С помощью метода dict можно получить словарь из свойств класса или экземпляра класса"
      ],
      "metadata": {
        "id": "QelRikAwe7Ln"
      }
    },
    {
      "cell_type": "code",
      "source": [
        "My_class.__dict__"
      ],
      "metadata": {
        "colab": {
          "base_uri": "https://localhost:8080/"
        },
        "id": "RcDCFoylkb3c",
        "outputId": "cacbb43a-c4aa-41d9-b0fc-309af5e7f4e6"
      },
      "execution_count": null,
      "outputs": [
        {
          "output_type": "execute_result",
          "data": {
            "text/plain": [
              "mappingproxy({'__module__': '__main__',\n",
              "              '__doc__': 'Текстовое описание работы класса',\n",
              "              'a': 300,\n",
              "              '__init__': <function __main__.My_class.__init__(self, b=0, c=0)>,\n",
              "              '__dict__': <attribute '__dict__' of 'My_class' objects>,\n",
              "              '__weakref__': <attribute '__weakref__' of 'My_class' objects>})"
            ]
          },
          "metadata": {},
          "execution_count": 8
        }
      ]
    },
    {
      "cell_type": "code",
      "source": [
        "ex = My_class()"
      ],
      "metadata": {
        "id": "o8JtfAFVVPZ-"
      },
      "execution_count": null,
      "outputs": []
    },
    {
      "cell_type": "code",
      "source": [
        "ex.__dict__"
      ],
      "metadata": {
        "colab": {
          "base_uri": "https://localhost:8080/"
        },
        "id": "t_9JRQMYG4GN",
        "outputId": "9fe94903-bc83-4065-a5f0-5e016006d595"
      },
      "execution_count": null,
      "outputs": [
        {
          "output_type": "execute_result",
          "data": {
            "text/plain": [
              "{'b': 0, 'c': 0}"
            ]
          },
          "metadata": {},
          "execution_count": 11
        }
      ]
    },
    {
      "cell_type": "markdown",
      "source": [
        "**Разновидности методов класса**"
      ],
      "metadata": {
        "id": "P9XBhRQ2ksNR"
      }
    },
    {
      "cell_type": "markdown",
      "source": [
        "**Обычные методы** - методы, объявляемые в классе для использования через экземпляры, при объявлении указываем ключевое слово self\n",
        "\n",
        "**Методы класса** - методы, которые закреплены непосредственно за классом, такие методы неприменимы для экземпляров классов, при объявлении указывается ключевое слово cls\n",
        "\n",
        "Методы класса также можно вызывать и из экземпляра, но работать такие методы будут только с атрибутами класса, а не экземпляра\n",
        "\n",
        "**Статические методы** - полностью независимые методы, в которые не нужно передавать ссылки ни на экземпляр, ни на класс"
      ],
      "metadata": {
        "id": "iWnqCut7tGrR"
      }
    },
    {
      "cell_type": "markdown",
      "source": [
        "Обычные методы"
      ],
      "metadata": {
        "id": "gTrqZdpGWv4A"
      }
    },
    {
      "cell_type": "code",
      "source": [
        "class simple_class():\n",
        "  # Определим статическое свойство\n",
        "  a = 200\n",
        "  # Определим динамические свойства\n",
        "  def __init__(self, b, c):\n",
        "    self.b = b\n",
        "    self.c = c\n",
        "  # Определим метод, использующий статическое свойство\n",
        "  def method_stat(self):\n",
        "    return simple_class.a**2\n",
        "  # Определим метод, использующий динамические свойства\n",
        "  def method_din(self):\n",
        "    return self.b+200, self.c*3"
      ],
      "metadata": {
        "id": "XDq53gW6JSmx"
      },
      "execution_count": null,
      "outputs": []
    },
    {
      "cell_type": "code",
      "source": [
        "# Зададим экземпляр класса, передаём в него значения динамических свойств b и c\n",
        "ex = simple_class(20, 30)"
      ],
      "metadata": {
        "id": "gw6ANKoaVwhZ"
      },
      "execution_count": null,
      "outputs": []
    },
    {
      "cell_type": "code",
      "source": [
        "# Через экземпляр вызовем метод, работающий со статическими свойствами\n",
        "ex.method_stat()"
      ],
      "metadata": {
        "colab": {
          "base_uri": "https://localhost:8080/"
        },
        "id": "TInoOs4tV24n",
        "outputId": "6b763a9c-0094-41bf-e0ca-d3e1cc96742d"
      },
      "execution_count": null,
      "outputs": [
        {
          "output_type": "execute_result",
          "data": {
            "text/plain": [
              "40000"
            ]
          },
          "metadata": {},
          "execution_count": 24
        }
      ]
    },
    {
      "cell_type": "code",
      "source": [
        "# Через экземпляр вызовем метод, работающий с динамическими свойствами\n",
        "ex.method_din()"
      ],
      "metadata": {
        "colab": {
          "base_uri": "https://localhost:8080/"
        },
        "id": "msPh94azV6GL",
        "outputId": "85861bcb-3404-44c6-b5f4-96549da5a24e"
      },
      "execution_count": null,
      "outputs": [
        {
          "output_type": "execute_result",
          "data": {
            "text/plain": [
              "(220, 90)"
            ]
          },
          "metadata": {},
          "execution_count": 25
        }
      ]
    },
    {
      "cell_type": "markdown",
      "source": [
        "Метод класса"
      ],
      "metadata": {
        "id": "94cQnt9iYMUw"
      }
    },
    {
      "cell_type": "markdown",
      "source": [
        "Стоит помнить, что self и cls - всего лишь общепринятые ключевые слова для ссылок соответственно на экземпляр класса и на класс, их можно менять местами, использовать вместо друг друга и функционирование программы не изменится, то есть это просто параметр, который должен просто быть и не важно, каким сочетанием букв он будет обозначаться, тем не менее, лучше придерживаться классическими правилами применения.  "
      ],
      "metadata": {
        "id": "kdnsE_GXZTlZ"
      }
    },
    {
      "cell_type": "code",
      "source": [
        "class simple_class():\n",
        "  # Определим статическое свойство\n",
        "  a = 200\n",
        "  # Определим динамические свойства\n",
        "  def __init__(self, b, c):\n",
        "    self.b = b\n",
        "    self.c = c\n",
        "  # Определим метод, использующий статическое свойство\n",
        "  # Но это будет метод класса, который сможет взаимодействовать только со статическими свойствами класса\n",
        "  def method_stat(cls):\n",
        "    return cls.a**2\n",
        "  # Определим метод, использующий динамические свойства\n",
        "  def method_din(self):\n",
        "    return self.b+200, self.c*3"
      ],
      "metadata": {
        "id": "jBlyTQDFXb7g"
      },
      "execution_count": null,
      "outputs": []
    },
    {
      "cell_type": "code",
      "source": [
        "# Создаём экземпляр класса и передаём ему значения динамических методов\n",
        "ex = simple_class(20, 30)"
      ],
      "metadata": {
        "id": "1P_VFCclYsqO"
      },
      "execution_count": null,
      "outputs": []
    },
    {
      "cell_type": "code",
      "source": [
        "# Через экземпляр применяем метод класса, грубо говоря мы можем применять метод класса\n",
        "# через экземпляр только потому, что в методе используется статическое свойство класса\n",
        "ex.method_stat()"
      ],
      "metadata": {
        "colab": {
          "base_uri": "https://localhost:8080/"
        },
        "id": "XQdtlRpoaV83",
        "outputId": "c9da8c1a-b726-481a-d04c-7d3e4299f1a3"
      },
      "execution_count": null,
      "outputs": [
        {
          "output_type": "execute_result",
          "data": {
            "text/plain": [
              "40000"
            ]
          },
          "metadata": {},
          "execution_count": 35
        }
      ]
    },
    {
      "cell_type": "code",
      "source": [
        "# Просто также вызываем через экземпляр метод, применяющийся к динамическим свойствам\n",
        "ex.method_din()"
      ],
      "metadata": {
        "colab": {
          "base_uri": "https://localhost:8080/"
        },
        "id": "LtzdDuQxY9TM",
        "outputId": "091b17c9-d289-4ec0-9995-a8d23e85d5da"
      },
      "execution_count": null,
      "outputs": [
        {
          "output_type": "execute_result",
          "data": {
            "text/plain": [
              "(220, 90)"
            ]
          },
          "metadata": {},
          "execution_count": 36
        }
      ]
    },
    {
      "cell_type": "markdown",
      "source": [
        "Статический метод"
      ],
      "metadata": {
        "id": "eWq1a5T-c0PW"
      }
    },
    {
      "cell_type": "code",
      "source": [
        "class simple_class():\n",
        "  # Определим статическое свойство\n",
        "  a = 200\n",
        "  # Определим динамические свойства\n",
        "  def __init__(self, b, c):\n",
        "    self.b = b\n",
        "    self.c = c\n",
        "  # Определим статический метод\n",
        "  # Такой метод будет применяться только к параметрам, которые в нём определены и не сможет взаимродействовать со свойствами класса или экземпляров\n",
        "  def stat_func(f):\n",
        "    return str(f)\n",
        "  # Определим метод, использующий динамические свойства\n",
        "  def method_din(self):\n",
        "    return self.b+200, self.c*3"
      ],
      "metadata": {
        "id": "aOM1QPZEZD0s"
      },
      "execution_count": null,
      "outputs": []
    },
    {
      "cell_type": "code",
      "source": [
        "# Создаём экземпляр класса с его динамическими свойтсвами\n",
        "ex = simple_class(20, 30)"
      ],
      "metadata": {
        "id": "WRDYJKZPdefE"
      },
      "execution_count": null,
      "outputs": []
    },
    {
      "cell_type": "code",
      "source": [
        "# мы можем вызвать статический метод из класса, в котором он был определён\n",
        "simple_class.stat_func(5)"
      ],
      "metadata": {
        "colab": {
          "base_uri": "https://localhost:8080/",
          "height": 35
        },
        "id": "HomzHdp3dtGt",
        "outputId": "b36607a1-94ab-484a-a447-9a14ca503e24"
      },
      "execution_count": null,
      "outputs": [
        {
          "output_type": "execute_result",
          "data": {
            "text/plain": [
              "'5'"
            ],
            "application/vnd.google.colaboratory.intrinsic+json": {
              "type": "string"
            }
          },
          "metadata": {},
          "execution_count": 41
        }
      ]
    },
    {
      "cell_type": "code",
      "source": [
        "# Но не можем вызвать статический метод из экземпляра класса\n",
        "# такая запись приведёт к ошибке\n",
        "ex.stat_func(4)"
      ],
      "metadata": {
        "colab": {
          "base_uri": "https://localhost:8080/",
          "height": 210
        },
        "id": "Wnm8jvRpdj8a",
        "outputId": "a205be6f-ff37-4e66-dcbd-cb738d4df6fe"
      },
      "execution_count": null,
      "outputs": [
        {
          "output_type": "error",
          "ename": "TypeError",
          "evalue": "ignored",
          "traceback": [
            "\u001b[0;31m---------------------------------------------------------------------------\u001b[0m",
            "\u001b[0;31mTypeError\u001b[0m                                 Traceback (most recent call last)",
            "\u001b[0;32m<ipython-input-42-172efffc4f4b>\u001b[0m in \u001b[0;36m<cell line: 3>\u001b[0;34m()\u001b[0m\n\u001b[1;32m      1\u001b[0m \u001b[0;31m# Но не можем вызвать статический метод из экземпляра класса\u001b[0m\u001b[0;34m\u001b[0m\u001b[0;34m\u001b[0m\u001b[0m\n\u001b[1;32m      2\u001b[0m \u001b[0;31m# такая запись приведёт к ошибке\u001b[0m\u001b[0;34m\u001b[0m\u001b[0;34m\u001b[0m\u001b[0m\n\u001b[0;32m----> 3\u001b[0;31m \u001b[0mex\u001b[0m\u001b[0;34m.\u001b[0m\u001b[0mstat_func\u001b[0m\u001b[0;34m(\u001b[0m\u001b[0;36m4\u001b[0m\u001b[0;34m)\u001b[0m\u001b[0;34m\u001b[0m\u001b[0;34m\u001b[0m\u001b[0m\n\u001b[0m",
            "\u001b[0;31mTypeError\u001b[0m: simple_class.stat_func() takes 1 positional argument but 2 were given"
          ]
        }
      ]
    },
    {
      "cell_type": "markdown",
      "source": [
        "**Режимы доступка к данным**"
      ],
      "metadata": {
        "id": "WNXj7Chshg1V"
      }
    },
    {
      "cell_type": "markdown",
      "source": [
        "1) Публичный атрибут (public) - не имеет защиты, можем обращаться к нему, как и где угодно (и через класс, и через экземпляр класса), свободно менять его значения и тд (записывается без символов подчёркивания: атрибут)\n",
        "\n",
        "2) Защищённый атрибут (protected) - формально ограничивает использование атрибута только классом и дочерними классами. Но с точки зрения работы кода ни на что не влияет, является просто сигналом для программиста. (записывается с одним нижним подчёркиванием: _атрибут)\n",
        "\n",
        "3) Приватный атрибут (private) - и формально и программно ограничивает использование атрибута только областью класса, то есть мы не можем передать экземпляру или применить к нему этот атрибут\n",
        "\n",
        "*Таким образом к публичным и защищённым атрибутам программно мы можем обращаться и менять их значения как обычно (Но помним про формальные ограничения для защищённых атрибутов)*"
      ],
      "metadata": {
        "id": "ELxf-CULhsJk"
      }
    },
    {
      "cell_type": "code",
      "source": [
        "class demonstrative_class():\n",
        "  # Указали публичное свойство\n",
        "  a = 100\n",
        "  # Указали защищённый атрибут\n",
        "  _b = 200\n",
        "  # Указали приватный атрибут\n",
        "  # К нему не получится обратиться или изменить его значение\n",
        "  __c = 200"
      ],
      "metadata": {
        "id": "oWmSBeFBdpyQ"
      },
      "execution_count": null,
      "outputs": []
    },
    {
      "cell_type": "markdown",
      "source": [
        "При необходимости, для некоторых приватных атрибутов возможно настроить интерфейсные методы - сеттеры и геттеры, с помощью которых можно получить доступ к выводу и изменению значений приватных атрибутов через экземпляры класса."
      ],
      "metadata": {
        "id": "aKVzltd_lIhs"
      }
    },
    {
      "cell_type": "code",
      "source": [
        "# Определили класс с двумя приватными свойствами\n",
        "class demonstrative_class():\n",
        "  __b = 200\n",
        "  __c = 300\n",
        "\n",
        "  # Определяем интерфейсный метод для вывода значений приватных свойств:\n",
        "  def get_(self):\n",
        "    return self.__b, self.__c\n",
        "\n",
        "  # Определяем интерфейсный метод для изменения значений приватных свойств:\n",
        "  def set_(self, b, c):\n",
        "    self.__b = b\n",
        "    self.__c = c"
      ],
      "metadata": {
        "id": "iuqha4UJiLnw"
      },
      "execution_count": null,
      "outputs": []
    },
    {
      "cell_type": "code",
      "source": [
        "# Создаём экземпляр класса\n",
        "ex = demonstrative_class()"
      ],
      "metadata": {
        "id": "yL5KQCrSl7-6"
      },
      "execution_count": null,
      "outputs": []
    },
    {
      "cell_type": "code",
      "source": [
        "# Через экземпляр вызываем интерфейсный метод для вывода значений приватных свойств\n",
        "ex.get_()"
      ],
      "metadata": {
        "colab": {
          "base_uri": "https://localhost:8080/"
        },
        "id": "thgOw83kl_UE",
        "outputId": "1a7e21ea-0ebe-4dd6-a73e-442a259913bb"
      },
      "execution_count": null,
      "outputs": [
        {
          "output_type": "execute_result",
          "data": {
            "text/plain": [
              "(200, 300)"
            ]
          },
          "metadata": {},
          "execution_count": 25
        }
      ]
    },
    {
      "cell_type": "code",
      "source": [
        "# Через экземпляр класса вызываем интерфейсный метод для изменения значений приватных свойств\n",
        "# Значения свойств изменяются только для экземпляра, в самом классе остаются прежние значения, как и всегда при изменении значений свойств через экземпляр\n",
        "ex.set_(300, 400)\n",
        "ex.get_()"
      ],
      "metadata": {
        "colab": {
          "base_uri": "https://localhost:8080/"
        },
        "id": "0N4b4MGzo_5U",
        "outputId": "bfaaf548-48b2-48df-f661-2917591b27cf"
      },
      "execution_count": null,
      "outputs": [
        {
          "output_type": "execute_result",
          "data": {
            "text/plain": [
              "(300, 400)"
            ]
          },
          "metadata": {},
          "execution_count": 26
        }
      ]
    },
    {
      "cell_type": "code",
      "source": [
        "demonstrative_class.__b = 600"
      ],
      "metadata": {
        "id": "SlhukHWXrwHz"
      },
      "execution_count": null,
      "outputs": []
    },
    {
      "cell_type": "code",
      "source": [
        "setattr(demonstrative_class, \"_demonstrative_class__b\", 500)"
      ],
      "metadata": {
        "id": "BySH-8OnrW-t"
      },
      "execution_count": null,
      "outputs": []
    },
    {
      "cell_type": "code",
      "source": [
        "demonstrative_class.__dict__"
      ],
      "metadata": {
        "colab": {
          "base_uri": "https://localhost:8080/"
        },
        "id": "LRP31w8Rrevq",
        "outputId": "a04b6583-7058-4335-d1ab-8a9923b3f5c6"
      },
      "execution_count": null,
      "outputs": [
        {
          "output_type": "execute_result",
          "data": {
            "text/plain": [
              "mappingproxy({'__module__': '__main__',\n",
              "              '_demonstrative_class__b': 500,\n",
              "              '_demonstrative_class__c': 300,\n",
              "              'get_': <function __main__.demonstrative_class.get_(self)>,\n",
              "              'set_': <function __main__.demonstrative_class.set_(self, b, c)>,\n",
              "              '__dict__': <attribute '__dict__' of 'demonstrative_class' objects>,\n",
              "              '__weakref__': <attribute '__weakref__' of 'demonstrative_class' objects>,\n",
              "              '__doc__': None,\n",
              "              '__annotations__': {},\n",
              "              '__b': 600})"
            ]
          },
          "metadata": {},
          "execution_count": 34
        }
      ]
    },
    {
      "cell_type": "code",
      "source": [
        "ex.__dict__"
      ],
      "metadata": {
        "colab": {
          "base_uri": "https://localhost:8080/"
        },
        "id": "iZyfZmCopVps",
        "outputId": "c08b4314-d85e-4297-bf11-bcc462f58941"
      },
      "execution_count": null,
      "outputs": [
        {
          "output_type": "execute_result",
          "data": {
            "text/plain": [
              "{'_demonstrative_class__b': 300, '_demonstrative_class__c': 400}"
            ]
          },
          "metadata": {},
          "execution_count": 28
        }
      ]
    },
    {
      "cell_type": "code",
      "source": [
        "class Point:\n",
        "    def __init__(self, x=0, y=0):\n",
        "        self.__x = x\n",
        "        self.__y = y\n",
        "\n",
        "    def set_coord(self, x, y):\n",
        "      self.__x = x\n",
        "      self.__y = y\n",
        "\n",
        "    def get_сoord(self):\n",
        "        return self.__x, self.__y"
      ],
      "metadata": {
        "id": "F-sDC9REmIuz"
      },
      "execution_count": null,
      "outputs": []
    },
    {
      "cell_type": "code",
      "source": [
        "pt = Point(1, 2)"
      ],
      "metadata": {
        "id": "bgpgOZPBnCeB"
      },
      "execution_count": null,
      "outputs": []
    },
    {
      "cell_type": "code",
      "source": [
        "pt.set_coord(1, 3)"
      ],
      "metadata": {
        "id": "GVTLaLBOnsk6"
      },
      "execution_count": null,
      "outputs": []
    },
    {
      "cell_type": "code",
      "source": [
        "print(pt.get_сoord())"
      ],
      "metadata": {
        "colab": {
          "base_uri": "https://localhost:8080/"
        },
        "id": "ipWD8ppqnysD",
        "outputId": "2c578c14-3f7a-4686-e865-34e38efc0ceb"
      },
      "execution_count": null,
      "outputs": [
        {
          "output_type": "stream",
          "name": "stdout",
          "text": [
            "(1, 3)\n"
          ]
        }
      ]
    },
    {
      "cell_type": "code",
      "source": [
        "print(pt.__x, pt.__y)"
      ],
      "metadata": {
        "colab": {
          "base_uri": "https://localhost:8080/",
          "height": 175
        },
        "id": "l9POqDpSnQaw",
        "outputId": "142c9415-0185-49a3-f088-e586172228d8"
      },
      "execution_count": null,
      "outputs": [
        {
          "output_type": "error",
          "ename": "AttributeError",
          "evalue": "ignored",
          "traceback": [
            "\u001b[0;31m---------------------------------------------------------------------------\u001b[0m",
            "\u001b[0;31mAttributeError\u001b[0m                            Traceback (most recent call last)",
            "\u001b[0;32m<ipython-input-14-4523a96ca670>\u001b[0m in \u001b[0;36m<cell line: 1>\u001b[0;34m()\u001b[0m\n\u001b[0;32m----> 1\u001b[0;31m \u001b[0mprint\u001b[0m\u001b[0;34m(\u001b[0m\u001b[0mpt\u001b[0m\u001b[0;34m.\u001b[0m\u001b[0m__x\u001b[0m\u001b[0;34m,\u001b[0m \u001b[0mpt\u001b[0m\u001b[0;34m.\u001b[0m\u001b[0m__y\u001b[0m\u001b[0;34m)\u001b[0m\u001b[0;34m\u001b[0m\u001b[0;34m\u001b[0m\u001b[0m\n\u001b[0m",
            "\u001b[0;31mAttributeError\u001b[0m: 'Point' object has no attribute '__x'"
          ]
        }
      ]
    },
    {
      "cell_type": "code",
      "source": [],
      "metadata": {
        "id": "t_Co1PJwnWFY"
      },
      "execution_count": null,
      "outputs": []
    }
  ]
}